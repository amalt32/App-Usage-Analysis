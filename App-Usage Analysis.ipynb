{
 "cells": [
  {
   "cell_type": "markdown",
   "metadata": {},
   "source": [
    "start\n"
   ]
  },
  {
   "cell_type": "code",
   "execution_count": 1,
   "metadata": {},
   "outputs": [],
   "source": [
    "import numpy as np\n",
    "import pandas as pd\n",
    "import seaborn as sns\n",
    "import matplotlib.pyplot as plt"
   ]
  },
  {
   "cell_type": "code",
   "execution_count": 19,
   "metadata": {},
   "outputs": [
    {
     "data": {
      "text/html": [
       "<div>\n",
       "<style scoped>\n",
       "    .dataframe tbody tr th:only-of-type {\n",
       "        vertical-align: middle;\n",
       "    }\n",
       "\n",
       "    .dataframe tbody tr th {\n",
       "        vertical-align: top;\n",
       "    }\n",
       "\n",
       "    .dataframe thead th {\n",
       "        text-align: right;\n",
       "    }\n",
       "</style>\n",
       "<table border=\"1\" class=\"dataframe\">\n",
       "  <thead>\n",
       "    <tr style=\"text-align: right;\">\n",
       "      <th></th>\n",
       "      <th>Date</th>\n",
       "      <th>App</th>\n",
       "      <th>Usage (minutes)</th>\n",
       "      <th>Notifications</th>\n",
       "      <th>Times Opened</th>\n",
       "    </tr>\n",
       "  </thead>\n",
       "  <tbody>\n",
       "    <tr>\n",
       "      <th>0</th>\n",
       "      <td>07-08-2024</td>\n",
       "      <td>Instagram</td>\n",
       "      <td>81</td>\n",
       "      <td>24</td>\n",
       "      <td>57</td>\n",
       "    </tr>\n",
       "    <tr>\n",
       "      <th>1</th>\n",
       "      <td>08-08-2024</td>\n",
       "      <td>Instagram</td>\n",
       "      <td>90</td>\n",
       "      <td>30</td>\n",
       "      <td>53</td>\n",
       "    </tr>\n",
       "    <tr>\n",
       "      <th>2</th>\n",
       "      <td>26-08-2024</td>\n",
       "      <td>Instagram</td>\n",
       "      <td>112</td>\n",
       "      <td>33</td>\n",
       "      <td>17</td>\n",
       "    </tr>\n",
       "    <tr>\n",
       "      <th>3</th>\n",
       "      <td>22-08-2024</td>\n",
       "      <td>Instagram</td>\n",
       "      <td>82</td>\n",
       "      <td>11</td>\n",
       "      <td>38</td>\n",
       "    </tr>\n",
       "    <tr>\n",
       "      <th>4</th>\n",
       "      <td>12-08-2024</td>\n",
       "      <td>Instagram</td>\n",
       "      <td>59</td>\n",
       "      <td>47</td>\n",
       "      <td>16</td>\n",
       "    </tr>\n",
       "    <tr>\n",
       "      <th>...</th>\n",
       "      <td>...</td>\n",
       "      <td>...</td>\n",
       "      <td>...</td>\n",
       "      <td>...</td>\n",
       "      <td>...</td>\n",
       "    </tr>\n",
       "    <tr>\n",
       "      <th>195</th>\n",
       "      <td>10-08-2024</td>\n",
       "      <td>LinkedIn</td>\n",
       "      <td>22</td>\n",
       "      <td>12</td>\n",
       "      <td>5</td>\n",
       "    </tr>\n",
       "    <tr>\n",
       "      <th>196</th>\n",
       "      <td>23-08-2024</td>\n",
       "      <td>LinkedIn</td>\n",
       "      <td>5</td>\n",
       "      <td>7</td>\n",
       "      <td>1</td>\n",
       "    </tr>\n",
       "    <tr>\n",
       "      <th>197</th>\n",
       "      <td>18-08-2024</td>\n",
       "      <td>LinkedIn</td>\n",
       "      <td>19</td>\n",
       "      <td>2</td>\n",
       "      <td>5</td>\n",
       "    </tr>\n",
       "    <tr>\n",
       "      <th>198</th>\n",
       "      <td>26-08-2024</td>\n",
       "      <td>LinkedIn</td>\n",
       "      <td>21</td>\n",
       "      <td>14</td>\n",
       "      <td>1</td>\n",
       "    </tr>\n",
       "    <tr>\n",
       "      <th>199</th>\n",
       "      <td>02-08-2024</td>\n",
       "      <td>LinkedIn</td>\n",
       "      <td>13</td>\n",
       "      <td>4</td>\n",
       "      <td>1</td>\n",
       "    </tr>\n",
       "  </tbody>\n",
       "</table>\n",
       "<p>200 rows × 5 columns</p>\n",
       "</div>"
      ],
      "text/plain": [
       "           Date        App  Usage (minutes)  Notifications  Times Opened\n",
       "0    07-08-2024  Instagram               81             24            57\n",
       "1    08-08-2024  Instagram               90             30            53\n",
       "2    26-08-2024  Instagram              112             33            17\n",
       "3    22-08-2024  Instagram               82             11            38\n",
       "4    12-08-2024  Instagram               59             47            16\n",
       "..          ...        ...              ...            ...           ...\n",
       "195  10-08-2024   LinkedIn               22             12             5\n",
       "196  23-08-2024   LinkedIn                5              7             1\n",
       "197  18-08-2024   LinkedIn               19              2             5\n",
       "198  26-08-2024   LinkedIn               21             14             1\n",
       "199  02-08-2024   LinkedIn               13              4             1\n",
       "\n",
       "[200 rows x 5 columns]"
      ]
     },
     "execution_count": 19,
     "metadata": {},
     "output_type": "execute_result"
    }
   ],
   "source": [
    "df=pd.read_csv(\"C:\\\\Users\\\\i\\\\Downloads\\\\Data set 1.csv\")\n",
    "df"
   ]
  },
  {
   "cell_type": "markdown",
   "metadata": {},
   "source": [
    "Understanding Attributes in dataset"
   ]
  },
  {
   "cell_type": "code",
   "execution_count": 20,
   "metadata": {},
   "outputs": [
    {
     "data": {
      "text/plain": [
       "Index(['Date', 'App', 'Usage (minutes)', 'Notifications', 'Times Opened'], dtype='object')"
      ]
     },
     "execution_count": 20,
     "metadata": {},
     "output_type": "execute_result"
    }
   ],
   "source": [
    "column_names=df.columns\n",
    "column_names\n"
   ]
  },
  {
   "cell_type": "markdown",
   "metadata": {},
   "source": [
    "Exploring the attribute APP"
   ]
  },
  {
   "cell_type": "code",
   "execution_count": 21,
   "metadata": {},
   "outputs": [
    {
     "data": {
      "text/plain": [
       "App\n",
       "Instagram      25\n",
       "X              25\n",
       "WhatsApp       25\n",
       "8 Ball Pool    25\n",
       "Safari         25\n",
       "Netflix        25\n",
       "Facebook       25\n",
       "LinkedIn       25\n",
       "Name: count, dtype: int64"
      ]
     },
     "execution_count": 21,
     "metadata": {},
     "output_type": "execute_result"
    }
   ],
   "source": [
    "app_col=df[\"App\"].value_counts()\n",
    "app_col\n"
   ]
  },
  {
   "cell_type": "markdown",
   "metadata": {},
   "source": [
    "Understanding:\n",
    "The dataset contains total of 200 entries of 7 different apps, their usage time in minutes,number of times the app opened and\n",
    "the number of notifications of each app."
   ]
  },
  {
   "cell_type": "markdown",
   "metadata": {},
   "source": [
    "Notification count of each App"
   ]
  },
  {
   "cell_type": "code",
   "execution_count": 22,
   "metadata": {},
   "outputs": [
    {
     "name": "stdout",
     "output_type": "stream",
     "text": [
      "Instagram= 1245 \n",
      "X= 646 \n",
      "Whatsapp= 2498 \n",
      "8 Ball Pool 113 \n",
      "Safari= 18 \n",
      "Netflix= 11 \n",
      "Facebook= 993 \n",
      "LinkedIn= 223\n"
     ]
    }
   ],
   "source": [
    "sumN_Instagram=df[df[\"App\"]=='Instagram']['Notifications'].sum()\n",
    "sumN_X=df[df[\"App\"]==\"X\"][\"Notifications\"].sum()\n",
    "sumN_WhatsApp=df[df[\"App\"]==\"WhatsApp\"][\"Notifications\"].sum()\n",
    "sumN_8BallPool=df[df[\"App\"]==\"8 Ball Pool\"][\"Notifications\"].sum()\n",
    "sumN_Safari=df[df[\"App\"]==\"Safari\"][\"Notifications\"].sum()\n",
    "sumN_Netflix=df[df[\"App\"]==\"Netflix\"][\"Notifications\"].sum()\n",
    "sumN_Facebook=df[df[\"App\"]==\"Facebook\"][\"Notifications\"].sum()\n",
    "sumN_LinkedIn=df[df[\"App\"]==\"LinkedIn\"][\"Notifications\"].sum()\n",
    "\n",
    "print(\"Instagram=\",sumN_Instagram,\"\\nX=\",sumN_X,\"\\nWhatsapp=\",sumN_WhatsApp,\"\\n8 Ball Pool\",sumN_8BallPool,\n",
    "      \"\\nSafari=\",sumN_Safari,\"\\nNetflix=\",sumN_Netflix,\"\\nFacebook=\",sumN_Facebook,\"\\nLinkedIn=\",sumN_LinkedIn)"
   ]
  },
  {
   "cell_type": "code",
   "execution_count": 36,
   "metadata": {},
   "outputs": [],
   "source": [
    "#sns.barplot(data=df,x='App',y='Notifications')"
   ]
  },
  {
   "cell_type": "markdown",
   "metadata": {},
   "source": [
    "Number of Times each app opened"
   ]
  },
  {
   "cell_type": "code",
   "execution_count": 24,
   "metadata": {},
   "outputs": [
    {
     "name": "stdout",
     "output_type": "stream",
     "text": [
      "Instagram= 1039 \n",
      "X= 329 \n",
      "Whatsapp= 1706 \n",
      "8 Ball Pool 182 \n",
      "Safari= 132 \n",
      "Netflix= 64 \n",
      "Facebook= 755 \n",
      "LinkedIn= 119\n"
     ]
    }
   ],
   "source": [
    "sumT_Instagram=df[df['App']=='Instagram']['Times Opened'].sum()\n",
    "sumT_X=df[df['App']=='X']['Times Opened'].sum()\n",
    "sumT_WhatsApp=df[df['App']=='WhatsApp']['Times Opened'].sum()\n",
    "sumT_8BallPool=df[df['App']=='8 Ball Pool']['Times Opened'].sum()\n",
    "sumT_Safari=df[df['App']=='Safari']['Times Opened'].sum()\n",
    "sumT_Netflix=df[df['App']=='Netflix']['Times Opened'].sum()\n",
    "sumT_Facebook=df[df['App']=='Facebook']['Times Opened'].sum()\n",
    "sumT_LinkedIn=df[df['App']=='LinkedIn']['Times Opened'].sum()\n",
    "\n",
    "print(\"Instagram=\",sumT_Instagram,\"\\nX=\",sumT_X,\"\\nWhatsapp=\",sumT_WhatsApp,\"\\n8 Ball Pool\",sumT_8BallPool,\n",
    "      \"\\nSafari=\",sumT_Safari,\"\\nNetflix=\",sumT_Netflix,\"\\nFacebook=\",sumT_Facebook,\"\\nLinkedIn=\",sumT_LinkedIn)\n",
    "\n",
    "#total_instagram_usage = df[df['App'] == 'Instagram']['Usage (minutes)'].sum()\n",
    "#total_instagram_usage"
   ]
  },
  {
   "cell_type": "code",
   "execution_count": 34,
   "metadata": {},
   "outputs": [],
   "source": [
    "#sns.barplot(data=df,x='App',y='Times Opened')"
   ]
  },
  {
   "cell_type": "markdown",
   "metadata": {},
   "source": [
    "Usage of Apps"
   ]
  },
  {
   "cell_type": "code",
   "execution_count": 26,
   "metadata": {},
   "outputs": [
    {
     "name": "stdout",
     "output_type": "stream",
     "text": [
      "Instagram= 1898 \n",
      "X= 675 \n",
      "Whatsapp= 1204 \n",
      "8 Ball Pool 452 \n",
      "Safari= 270 \n",
      "Netflix= 1819 \n",
      "Facebook= 842 \n",
      "LinkedIn= 390\n"
     ]
    }
   ],
   "source": [
    "sumU_Instagram=df[df['App']=='Instagram']['Usage (minutes)'].sum()\n",
    "sumU_X=df[df['App']=='X']['Usage (minutes)'].sum()\n",
    "sumU_WhatsApp=df[df['App']=='WhatsApp']['Usage (minutes)'].sum()\n",
    "sumU_8BallPool=df[df['App']=='8 Ball Pool']['Usage (minutes)'].sum()\n",
    "sumU_Safari=df[df['App']=='Safari']['Usage (minutes)'].sum()\n",
    "sumU_Netflix=df[df['App']=='Netflix']['Usage (minutes)'].sum()\n",
    "sumU_Facebook=df[df['App']=='Facebook']['Usage (minutes)'].sum()\n",
    "sumU_LinkedIn=df[df['App']=='LinkedIn']['Usage (minutes)'].sum()\n",
    "\n",
    "print(\"Instagram=\",sumU_Instagram,\"\\nX=\",sumU_X,\"\\nWhatsapp=\",sumU_WhatsApp,\"\\n8 Ball Pool\",sumU_8BallPool,\n",
    "      \"\\nSafari=\",sumU_Safari,\"\\nNetflix=\",sumU_Netflix,\"\\nFacebook=\",sumU_Facebook,\"\\nLinkedIn=\",sumU_LinkedIn)\n"
   ]
  },
  {
   "cell_type": "code",
   "execution_count": 35,
   "metadata": {},
   "outputs": [],
   "source": [
    "#sns.barplot(data=df,x='App',y='Usage (minutes)')"
   ]
  },
  {
   "cell_type": "markdown",
   "metadata": {},
   "source": [
    "Creating a new dataframe to combine and store every values\n"
   ]
  },
  {
   "cell_type": "code",
   "execution_count": 32,
   "metadata": {},
   "outputs": [
    {
     "data": {
      "text/html": [
       "<div>\n",
       "<style scoped>\n",
       "    .dataframe tbody tr th:only-of-type {\n",
       "        vertical-align: middle;\n",
       "    }\n",
       "\n",
       "    .dataframe tbody tr th {\n",
       "        vertical-align: top;\n",
       "    }\n",
       "\n",
       "    .dataframe thead th {\n",
       "        text-align: right;\n",
       "    }\n",
       "</style>\n",
       "<table border=\"1\" class=\"dataframe\">\n",
       "  <thead>\n",
       "    <tr style=\"text-align: right;\">\n",
       "      <th></th>\n",
       "      <th>App</th>\n",
       "      <th>Usage(minutes)</th>\n",
       "      <th>Notifications</th>\n",
       "      <th>Times_opened</th>\n",
       "    </tr>\n",
       "  </thead>\n",
       "  <tbody>\n",
       "    <tr>\n",
       "      <th>0</th>\n",
       "      <td>Instagram</td>\n",
       "      <td>1898</td>\n",
       "      <td>1245</td>\n",
       "      <td>1039</td>\n",
       "    </tr>\n",
       "    <tr>\n",
       "      <th>1</th>\n",
       "      <td>X</td>\n",
       "      <td>675</td>\n",
       "      <td>646</td>\n",
       "      <td>329</td>\n",
       "    </tr>\n",
       "    <tr>\n",
       "      <th>2</th>\n",
       "      <td>WhatsApp</td>\n",
       "      <td>1204</td>\n",
       "      <td>2498</td>\n",
       "      <td>1706</td>\n",
       "    </tr>\n",
       "    <tr>\n",
       "      <th>3</th>\n",
       "      <td>8 Ball Pool</td>\n",
       "      <td>452</td>\n",
       "      <td>113</td>\n",
       "      <td>182</td>\n",
       "    </tr>\n",
       "    <tr>\n",
       "      <th>4</th>\n",
       "      <td>Safari</td>\n",
       "      <td>270</td>\n",
       "      <td>18</td>\n",
       "      <td>132</td>\n",
       "    </tr>\n",
       "    <tr>\n",
       "      <th>5</th>\n",
       "      <td>Netflix</td>\n",
       "      <td>1819</td>\n",
       "      <td>11</td>\n",
       "      <td>64</td>\n",
       "    </tr>\n",
       "    <tr>\n",
       "      <th>6</th>\n",
       "      <td>Facebook</td>\n",
       "      <td>842</td>\n",
       "      <td>993</td>\n",
       "      <td>755</td>\n",
       "    </tr>\n",
       "    <tr>\n",
       "      <th>7</th>\n",
       "      <td>LinkedIn</td>\n",
       "      <td>390</td>\n",
       "      <td>223</td>\n",
       "      <td>119</td>\n",
       "    </tr>\n",
       "  </tbody>\n",
       "</table>\n",
       "</div>"
      ],
      "text/plain": [
       "           App  Usage(minutes)  Notifications  Times_opened\n",
       "0    Instagram            1898           1245          1039\n",
       "1            X             675            646           329\n",
       "2     WhatsApp            1204           2498          1706\n",
       "3  8 Ball Pool             452            113           182\n",
       "4       Safari             270             18           132\n",
       "5      Netflix            1819             11            64\n",
       "6     Facebook             842            993           755\n",
       "7     LinkedIn             390            223           119"
      ]
     },
     "execution_count": 32,
     "metadata": {},
     "output_type": "execute_result"
    }
   ],
   "source": [
    "new_df=pd.DataFrame({\n",
    "    'App':['Instagram', 'X', 'WhatsApp', '8 Ball Pool', 'Safari', 'Netflix',\n",
    "       'Facebook', 'LinkedIn'],\n",
    "    'Usage(minutes)':[sumU_Instagram,sumU_X,sumU_WhatsApp,sumU_8BallPool,sumU_Safari,sumU_Netflix,sumU_Facebook,sumU_LinkedIn],\n",
    "    'Notifications':[sumN_Instagram,sumN_X,sumN_WhatsApp,sumN_8BallPool,sumN_Safari,sumN_Netflix,sumN_Facebook,sumN_LinkedIn],\n",
    "    'Times_opened':[sumT_Instagram,sumT_X,sumT_WhatsApp,sumT_8BallPool,sumT_Safari,sumT_Netflix,sumT_Facebook,sumT_LinkedIn]\n",
    "}\n",
    ")\n",
    "new_df\n"
   ]
  },
  {
   "cell_type": "code",
   "execution_count": 33,
   "metadata": {},
   "outputs": [
    {
     "data": {
      "image/png": "[encoded data removed]",
      "text/plain": [
       "<Figure size 800x600 with 1 Axes>"
      ]
     },
     "metadata": {},
     "output_type": "display_data"
    }
   ],
   "source": [
    "new_df.set_index('App', inplace=True)\n",
    "new_df.plot(kind='bar', figsize=(8, 6))\n",
    "plt.title('Grouped Bar Chart')\n",
    "plt.xlabel('Apps   figure(i)')\n",
    "plt.ylabel('Values')\n",
    "plt.legend(title='Groups')\n",
    "plt.tight_layout()\n",
    "plt.show()"
   ]
  },
  {
   "cell_type": "markdown",
   "metadata": {},
   "source": [
    "Correlation matrix to identify whether there are any relation between the attributes"
   ]
  },
  {
   "cell_type": "code",
   "execution_count": 30,
   "metadata": {},
   "outputs": [
    {
     "data": {
      "text/html": [
       "<div>\n",
       "<style scoped>\n",
       "    .dataframe tbody tr th:only-of-type {\n",
       "        vertical-align: middle;\n",
       "    }\n",
       "\n",
       "    .dataframe tbody tr th {\n",
       "        vertical-align: top;\n",
       "    }\n",
       "\n",
       "    .dataframe thead th {\n",
       "        text-align: right;\n",
       "    }\n",
       "</style>\n",
       "<table border=\"1\" class=\"dataframe\">\n",
       "  <thead>\n",
       "    <tr style=\"text-align: right;\">\n",
       "      <th></th>\n",
       "      <th>Usage(minutes)</th>\n",
       "      <th>Notifications</th>\n",
       "      <th>Times_opened</th>\n",
       "    </tr>\n",
       "  </thead>\n",
       "  <tbody>\n",
       "    <tr>\n",
       "      <th>Usage(minutes)</th>\n",
       "      <td>1.000000</td>\n",
       "      <td>0.362809</td>\n",
       "      <td>0.415376</td>\n",
       "    </tr>\n",
       "    <tr>\n",
       "      <th>Notifications</th>\n",
       "      <td>0.362809</td>\n",
       "      <td>1.000000</td>\n",
       "      <td>0.986718</td>\n",
       "    </tr>\n",
       "    <tr>\n",
       "      <th>Times_opened</th>\n",
       "      <td>0.415376</td>\n",
       "      <td>0.986718</td>\n",
       "      <td>1.000000</td>\n",
       "    </tr>\n",
       "  </tbody>\n",
       "</table>\n",
       "</div>"
      ],
      "text/plain": [
       "                Usage(minutes)  Notifications  Times_opened\n",
       "Usage(minutes)        1.000000       0.362809      0.415376\n",
       "Notifications         0.362809       1.000000      0.986718\n",
       "Times_opened          0.415376       0.986718      1.000000"
      ]
     },
     "execution_count": 30,
     "metadata": {},
     "output_type": "execute_result"
    }
   ],
   "source": [
    "CorrelationMatrix=new_df[['Usage(minutes)','Notifications','Times_opened']].corr()\n",
    "CorrelationMatrix"
   ]
  },
  {
   "cell_type": "markdown",
   "metadata": {},
   "source": [
    "Displaying the correlation matrix in the form of heatmap"
   ]
  },
  {
   "cell_type": "code",
   "execution_count": 31,
   "metadata": {},
   "outputs": [
    {
     "data": {
      "image/png": "[encoded data removed]",
      "text/plain": [
       "<Figure size 800x600 with 2 Axes>"
      ]
     },
     "metadata": {},
     "output_type": "display_data"
    }
   ],
   "source": [
    "plt.figure(figsize=(8,6))\n",
    "sns.heatmap(CorrelationMatrix,annot=True)\n",
    "plt.show()"
   ]
  },
  {
   "cell_type": "markdown",
   "metadata": {},
   "source": [
    "Inferences</br></br>\n",
    "Based on the dataset provided and by Analysing figure(i), we can infer the bellow findings:</br>\n",
    "1.The most used app is Instagram with a total usage of 1898 minutes</br>\n",
    "2.WhatsApp generates most Notifications</br>\n",
    "3.8 Ball Pool,Safari and Netflix are being opened more without a strong influence of Notifications</br>\n",
    "4.Netflix has a total usage time of 1819 minutes without a strong influence of Notifications.</br>\n",
    "5.Instagram usage is very much more than compared with facebook, the reason can be because the user's might be senior citizens.</br>\n",
    "8.The number of Notifications and Times Opened have a strong correlation, meaning the notifications are the main reason for opening the apps.</br>\n"
   ]
  }
 ],
 "metadata": {
  "kernelspec": {
   "display_name": "venv",
   "language": "python",
   "name": "python3"
  },
  "language_info": {
   "codemirror_mode": {
    "name": "ipython",
    "version": 3
   },
   "file_extension": ".py",
   "mimetype": "text/x-python",
   "name": "python",
   "nbconvert_exporter": "python",
   "pygments_lexer": "ipython3",
   "version": "3.11.9"
  }
 },
 "nbformat": 4,
 "nbformat_minor": 2
}
